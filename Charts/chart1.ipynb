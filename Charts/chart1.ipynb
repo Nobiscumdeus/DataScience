{
 "cells": [
  {
   "cell_type": "code",
   "execution_count": null,
   "id": "bd58f763",
   "metadata": {},
   "outputs": [],
   "source": [
    "import pandas as pd \n",
    "import matplotlib.pyplot as plt\n",
    "import seaborn as sns "
   ]
  }
 ],
 "metadata": {
  "kernelspec": {
   "display_name": "DataScience-8wVQIKjq",
   "language": "python",
   "name": "python3"
  },
  "language_info": {
   "name": "python",
   "version": "3.12.4"
  }
 },
 "nbformat": 4,
 "nbformat_minor": 5
}
