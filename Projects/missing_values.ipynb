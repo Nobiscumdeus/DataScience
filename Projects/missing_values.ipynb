{
 "cells": [
  {
   "cell_type": "code",
   "execution_count": null,
   "id": "e255bc93",
   "metadata": {},
   "outputs": [],
   "source": [
    "import numpy as np \n",
    "import pandas as pd \n",
    "import matplotlib.pyplot as plt\n",
    "import seaborn as sns "
   ]
  },
  {
   "cell_type": "code",
   "execution_count": null,
   "id": "d19186ef",
   "metadata": {},
   "outputs": [],
   "source": [
    "placement_data=pd.read_csv(\"../Data/Placement_Data_Full_Class (1).csv\")"
   ]
  }
 ],
 "metadata": {
  "kernelspec": {
   "display_name": "DataScience-8wVQIKjq",
   "language": "python",
   "name": "python3"
  },
  "language_info": {
   "name": "python",
   "version": "3.12.4"
  }
 },
 "nbformat": 4,
 "nbformat_minor": 5
}
