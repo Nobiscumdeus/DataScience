{
 "cells": [
  {
   "attachments": {},
   "cell_type": "markdown",
   "metadata": {},
   "source": [
    "# Hypothesis Testing with Python "
   ]
  },
  {
   "attachments": {},
   "cell_type": "markdown",
   "metadata": {},
   "source": [
    "## One Sample t-test"
   ]
  },
  {
   "attachments": {},
   "cell_type": "markdown",
   "metadata": {},
   "source": [
    "#### Import Packages "
   ]
  },
  {
   "cell_type": "code",
   "execution_count": 1,
   "metadata": {},
   "outputs": [
    {
     "name": "stderr",
     "output_type": "stream",
     "text": [
      "Matplotlib is building the font cache; this may take a moment.\n"
     ]
    }
   ],
   "source": [
    "%matplotlib inline\n",
    "import numpy as np\n",
    "import pandas as pd \n",
    "import matplotlib.pyplot as plt \n",
    "import scipy.stats as stats\n",
    "import math"
   ]
  },
  {
   "attachments": {},
   "cell_type": "markdown",
   "metadata": {},
   "source": [
    "### Goal : t-test checks whether a sample mean differs from a population mean. \n",
    "1. Lets check with random dummy data if the average age of voters in the entire country and the average age of sample of voters in Minnesota significantly differs."
   ]
  },
  {
   "cell_type": "code",
   "execution_count": 4,
   "metadata": {},
   "outputs": [],
   "source": [
    "np.random.seed(6)\n",
    "\n",
    "population_ages1=stats.poisson.rvs(loc=18,mu=35,size=150000)\n",
    "population_ages2=stats.poisson.rvs(loc=18,mu=10,size=100000)\n",
    "population_ages=np.concatenate((population_ages1,population_ages2))\n",
    "\n",
    "minnesota_ages1=stats.poisson.rvs(loc=18,mu=30,size=30)\n",
    "minnesota_ages2=stats.poisson.rvs(loc=18,mu=10,size=20)\n",
    "minnesota_ages=np.concatenate((minnesota_ages1,minnesota_ages2))"
   ]
  },
  {
   "cell_type": "code",
   "execution_count": 5,
   "metadata": {},
   "outputs": [
    {
     "name": "stdout",
     "output_type": "stream",
     "text": [
      "43.000112\n",
      "39.26\n"
     ]
    }
   ],
   "source": [
    "print(population_ages.mean())\n",
    "print(minnesota_ages.mean())"
   ]
  },
  {
   "attachments": {},
   "cell_type": "markdown",
   "metadata": {},
   "source": [
    "### We perform t-test at 95% confidence level and see if it correctly rejects the null hypothesis"
   ]
  },
  {
   "cell_type": "code",
   "execution_count": 8,
   "metadata": {},
   "outputs": [
    {
     "data": {
      "text/plain": [
       "TtestResult(statistic=-2.5742714883655027, pvalue=0.013118685425061678, df=49)"
      ]
     },
     "execution_count": 8,
     "metadata": {},
     "output_type": "execute_result"
    }
   ],
   "source": [
    "stats.ttest_1samp(a=minnesota_ages,                   #Sample data\n",
    "                  popmean=population_ages.mean() #Pop mean\n",
    "                   )"
   ]
  },
  {
   "attachments": {},
   "cell_type": "markdown",
   "metadata": {},
   "source": [
    "#### The statistic \"t\" equals to -2.574 and hence the mean deviates from the null hypothesis "
   ]
  },
  {
   "cell_type": "code",
   "execution_count": 9,
   "metadata": {},
   "outputs": [
    {
     "data": {
      "text/plain": [
       "-2.0095752371292397"
      ]
     },
     "execution_count": 9,
     "metadata": {},
     "output_type": "execute_result"
    }
   ],
   "source": [
    "stats.t.ppf(q=0.025,        #Quantile to check\n",
    "            df=49\n",
    "            \n",
    "            )"
   ]
  },
  {
   "cell_type": "code",
   "execution_count": 10,
   "metadata": {},
   "outputs": [
    {
     "data": {
      "text/plain": [
       "2.0095752371292397"
      ]
     },
     "execution_count": 10,
     "metadata": {},
     "output_type": "execute_result"
    }
   ],
   "source": [
    "stats.t.ppf(q=0.975,\n",
    "            df=49)"
   ]
  },
  {
   "cell_type": "code",
   "execution_count": 12,
   "metadata": {},
   "outputs": [
    {
     "data": {
      "text/plain": [
       "0.013121066545690117"
      ]
     },
     "execution_count": 12,
     "metadata": {},
     "output_type": "execute_result"
    }
   ],
   "source": [
    "##THe p-value should correspond to what we have from our test\n",
    "stats.t.cdf(x=-2.5742,\n",
    "            df=49) *2"
   ]
  },
  {
   "cell_type": "code",
   "execution_count": 13,
   "metadata": {},
   "outputs": [
    {
     "data": {
      "text/plain": [
       "(36.36966907692507, 42.150330923074925)"
      ]
     },
     "execution_count": 13,
     "metadata": {},
     "output_type": "execute_result"
    }
   ],
   "source": [
    "sigma=minnesota_ages.std()/math.sqrt(50)  # Sample stdev/sample size\n",
    "\n",
    "stats.t.interval(0.95,                      #Confidence level\n",
    "                 df=49,                     #Degrees of freedom\n",
    "                 loc=minnesota_ages.mean(), #Sample mean\n",
    "                 scale=sigma)               #Stabdard dev estimate \n"
   ]
  },
  {
   "cell_type": "code",
   "execution_count": 15,
   "metadata": {},
   "outputs": [
    {
     "data": {
      "text/plain": [
       "(35.40547994092107, 43.11452005907893)"
      ]
     },
     "execution_count": 15,
     "metadata": {},
     "output_type": "execute_result"
    }
   ],
   "source": [
    "stats.t.interval(0.99,                      # 99% Confidence level\n",
    "                 df=49,                     #Degrees of freedom\n",
    "                 loc=minnesota_ages.mean(), #Sample mean\n",
    "                 scale=sigma)               #Stabdard dev estimate \n",
    "\n",
    "#This does not give us enough evidence to reject null hypothesis"
   ]
  },
  {
   "cell_type": "code",
   "execution_count": 16,
   "metadata": {},
   "outputs": [
    {
     "name": "stdout",
     "output_type": "stream",
     "text": [
      "t-statistic: -2.5742714883655027, p-value: 0.013118685425061678\n",
      "Manual p-value: 0.013118685425061678\n",
      "Critical Value at 95%: 2.0095752371292397\n",
      "Critical Value at 99%: 2.67995197363155\n",
      "95% Confidence Interval: (36.34032486345792, 42.17967513654207)\n",
      "99% Confidence Interval: (35.36634675429388, 43.15365324570612)\n",
      "Reject the null hypothesis at 95% confidence level.\n",
      "Fail to reject the null hypothesis at 99% confidence level.\n"
     ]
    }
   ],
   "source": [
    "import math\n",
    "\n",
    "# Seed for reproducibility\n",
    "np.random.seed(6)\n",
    "\n",
    "# Generate data\n",
    "population_ages1 = stats.poisson.rvs(loc=18, mu=35, size=150000)\n",
    "population_ages2 = stats.poisson.rvs(loc=18, mu=10, size=100000)\n",
    "population_ages = np.concatenate((population_ages1, population_ages2))\n",
    "\n",
    "minnesota_ages1 = stats.poisson.rvs(loc=18, mu=30, size=30)\n",
    "minnesota_ages2 = stats.poisson.rvs(loc=18, mu=10, size=20)\n",
    "minnesota_ages = np.concatenate((minnesota_ages1, minnesota_ages2))\n",
    "\n",
    "# Population mean\n",
    "population_mean = population_ages.mean()\n",
    "\n",
    "# One-sample t-test\n",
    "t_statistic, p_value = stats.ttest_1samp(a=minnesota_ages, popmean=population_mean)\n",
    "\n",
    "# Calculate critical values\n",
    "df = len(minnesota_ages) - 1\n",
    "critical_value_95 = stats.t.ppf(0.975, df)\n",
    "critical_value_99 = stats.t.ppf(0.995, df)\n",
    "\n",
    "# Calculate manual p-value\n",
    "p_value_manual = stats.t.cdf(t_statistic, df) * 2\n",
    "\n",
    "# Standard error of the mean\n",
    "sigma = minnesota_ages.std(ddof=1) / math.sqrt(len(minnesota_ages))\n",
    "\n",
    "# Confidence intervals\n",
    "confidence_interval_95 = stats.t.interval(0.95, df, loc=minnesota_ages.mean(), scale=sigma)\n",
    "confidence_interval_99 = stats.t.interval(0.99, df, loc=minnesota_ages.mean(), scale=sigma)\n",
    "\n",
    "# Outputs\n",
    "print(f\"t-statistic: {t_statistic}, p-value: {p_value}\")\n",
    "print(f\"Manual p-value: {p_value_manual}\")\n",
    "print(f\"Critical Value at 95%: {critical_value_95}\")\n",
    "print(f\"Critical Value at 99%: {critical_value_99}\")\n",
    "print(f\"95% Confidence Interval: {confidence_interval_95}\")\n",
    "print(f\"99% Confidence Interval: {confidence_interval_99}\")\n",
    "\n",
    "if p_value < 0.05:\n",
    "    print(\"Reject the null hypothesis at 95% confidence level.\")\n",
    "else:\n",
    "    print(\"Fail to reject the null hypothesis at 95% confidence level.\")\n",
    "\n",
    "if p_value < 0.01:\n",
    "    print(\"Reject the null hypothesis at 99% confidence level.\")\n",
    "else:\n",
    "    print(\"Fail to reject the null hypothesis at 99% confidence level.\")\n"
   ]
  },
  {
   "attachments": {},
   "cell_type": "markdown",
   "metadata": {},
   "source": [
    "At 95% Confidence Level (\n",
    "𝛼\n",
    "=\n",
    "0.05\n",
    "α=0.05):\n",
    "\n",
    "Why Different Conclusions?\n",
    "The 99% confidence level requires stronger evidence (a smaller p-value) to reject the null hypothesis compared to the 95% confidence level. This is because the critical value is higher, making it more difficult to exceed.\n",
    "The stricter criteria at the 99% confidence level protect against Type I errors (false positives) more stringently, leading to situations where you might reject the null hypothesis at 95% but not at 99%."
   ]
  },
  {
   "cell_type": "code",
   "execution_count": 17,
   "metadata": {},
   "outputs": [
    {
     "data": {
      "image/png": "[encoded data removed]",
      "text/plain": [
       "<Figure size 1000x600 with 1 Axes>"
      ]
     },
     "metadata": {},
     "output_type": "display_data"
    },
    {
     "name": "stdout",
     "output_type": "stream",
     "text": [
      "t-statistic: -2.5742714883655027\n",
      "p-value: 0.013118685425061678\n",
      "95% Confidence Interval: (36.34032486345792, 42.17967513654207)\n",
      "99% Confidence Interval: (35.36634675429388, 43.15365324570612)\n"
     ]
    }
   ],
   "source": [
    "import numpy as np\n",
    "import scipy.stats as stats\n",
    "import matplotlib.pyplot as plt\n",
    "\n",
    "# Seed for reproducibility\n",
    "np.random.seed(6)\n",
    "\n",
    "# Generate data\n",
    "population_ages1 = stats.poisson.rvs(loc=18, mu=35, size=150000)\n",
    "population_ages2 = stats.poisson.rvs(loc=18, mu=10, size=100000)\n",
    "population_ages = np.concatenate((population_ages1, population_ages2))\n",
    "\n",
    "minnesota_ages1 = stats.poisson.rvs(loc=18, mu=30, size=30)\n",
    "minnesota_ages2 = stats.poisson.rvs(loc=18, mu=10, size=20)\n",
    "minnesota_ages = np.concatenate((minnesota_ages1, minnesota_ages2))\n",
    "\n",
    "# Population mean\n",
    "population_mean = population_ages.mean()\n",
    "\n",
    "# Sample mean\n",
    "sample_mean = minnesota_ages.mean()\n",
    "\n",
    "# Standard error of the mean\n",
    "sigma = minnesota_ages.std(ddof=1) / np.sqrt(len(minnesota_ages))\n",
    "\n",
    "# Degrees of freedom\n",
    "df = len(minnesota_ages) - 1\n",
    "\n",
    "# t-statistic\n",
    "t_statistic, p_value = stats.ttest_1samp(a=minnesota_ages, popmean=population_mean)\n",
    "\n",
    "# Critical values\n",
    "critical_value_95 = stats.t.ppf(0.975, df)\n",
    "critical_value_99 = stats.t.ppf(0.995, df)\n",
    "\n",
    "# Confidence intervals\n",
    "confidence_interval_95 = stats.t.interval(0.95, df, loc=sample_mean, scale=sigma)\n",
    "confidence_interval_99 = stats.t.interval(0.99, df, loc=sample_mean, scale=sigma)\n",
    "\n",
    "# Plotting the t-distribution\n",
    "x = np.linspace(-4, 4, 1000)\n",
    "y = stats.t.pdf(x, df)\n",
    "\n",
    "plt.figure(figsize=(10, 6))\n",
    "\n",
    "# Plot t-distribution\n",
    "plt.plot(x, y, label='t-distribution (df=49)')\n",
    "\n",
    "# Fill the 95% and 99% confidence intervals\n",
    "plt.fill_between(x, y, where=((x > critical_value_95) | (x < -critical_value_95)), color='red', alpha=0.5, label='95% Confidence Interval')\n",
    "plt.fill_between(x, y, where=((x > critical_value_99) | (x < -critical_value_99)), color='blue', alpha=0.3, label='99% Confidence Interval')\n",
    "\n",
    "# Plot sample t-statistic\n",
    "plt.axvline(x=t_statistic, color='green', linestyle='--', label='Sample t-statistic')\n",
    "\n",
    "plt.title('t-Distribution with 95% and 99% Confidence Intervals')\n",
    "plt.xlabel('t-value')\n",
    "plt.ylabel('Probability Density')\n",
    "plt.legend()\n",
    "plt.grid(True)\n",
    "\n",
    "# Show the plot\n",
    "plt.show()\n",
    "\n",
    "# Output the key results\n",
    "print(f\"t-statistic: {t_statistic}\")\n",
    "print(f\"p-value: {p_value}\")\n",
    "print(f\"95% Confidence Interval: {confidence_interval_95}\")\n",
    "print(f\"99% Confidence Interval: {confidence_interval_99}\")\n"
   ]
  },
  {
   "attachments": {},
   "cell_type": "markdown",
   "metadata": {},
   "source": [
    "## Two sample t-test\n",
    "1. It investigates whether the means of two independent data samples differ from one another.\n",
    "2. The null hypothesis is that the means of both groups are the same \n",
    "3. Unlike one sample t-test where we test against a known population parameter, the two sample test only onvolves sample means \n"
   ]
  },
  {
   "cell_type": "code",
   "execution_count": 18,
   "metadata": {},
   "outputs": [
    {
     "name": "stdout",
     "output_type": "stream",
     "text": [
      "42.8\n"
     ]
    }
   ],
   "source": [
    "np.random.seed(12)\n",
    "wisconsin_ages1=stats.poisson.rvs(loc=18,mu=33,size=30)\n",
    "wisconsin_ages2=stats.poisson.rvs(loc=18,mu=13,size=20) \n",
    "wisconsin_ages=np.concatenate((wisconsin_ages1,wisconsin_ages2));\n",
    "print(wisconsin_ages.mean())"
   ]
  },
  {
   "cell_type": "code",
   "execution_count": 19,
   "metadata": {},
   "outputs": [
    {
     "data": {
      "text/plain": [
       "TtestResult(statistic=-1.7083870793286842, pvalue=0.09073104343957748, df=97.9724575497005)"
      ]
     },
     "execution_count": 19,
     "metadata": {},
     "output_type": "execute_result"
    }
   ],
   "source": [
    "stats.ttest_ind(a=minnesota_ages,b=wisconsin_ages,equal_var=False) #Assume sample have equal variance \n"
   ]
  },
  {
   "attachments": {},
   "cell_type": "markdown",
   "metadata": {},
   "source": [
    "At 95% confidence level, we would fail to reject the null hypothesis, since the p-value is greater than the corresponding significance level of 5%"
   ]
  },
  {
   "attachments": {},
   "cell_type": "markdown",
   "metadata": {},
   "source": [
    "## Paired T-test\n",
    "1. The basic two sample t-test is designed for testing the differences between two independent groups. \n",
    "2. In some cases, we might want to test differences between ** samples of the same group ** at different points in time \n",
    "3. For instance, a hospital might want to test whether a weight-loss drug works by checking the weights of the same group patients before and after the treatment. \n",
    "4. Hence, a paired t-test lets you check whether the means of samples from the same group differs\n",
    "5. We use the stats.ttest_rel() function in scipy for this test"
   ]
  },
  {
   "cell_type": "code",
   "execution_count": 23,
   "metadata": {},
   "outputs": [
    {
     "data": {
      "text/html": [
       "<div>\n",
       "<style scoped>\n",
       "    .dataframe tbody tr th:only-of-type {\n",
       "        vertical-align: middle;\n",
       "    }\n",
       "\n",
       "    .dataframe tbody tr th {\n",
       "        vertical-align: top;\n",
       "    }\n",
       "\n",
       "    .dataframe thead th {\n",
       "        text-align: right;\n",
       "    }\n",
       "</style>\n",
       "<table border=\"1\" class=\"dataframe\">\n",
       "  <thead>\n",
       "    <tr style=\"text-align: right;\">\n",
       "      <th></th>\n",
       "      <th>weight_before</th>\n",
       "      <th>weight_after</th>\n",
       "      <th>weight_change</th>\n",
       "    </tr>\n",
       "  </thead>\n",
       "  <tbody>\n",
       "    <tr>\n",
       "      <th>count</th>\n",
       "      <td>100.000000</td>\n",
       "      <td>100.000000</td>\n",
       "      <td>100.000000</td>\n",
       "    </tr>\n",
       "    <tr>\n",
       "      <th>mean</th>\n",
       "      <td>251.817486</td>\n",
       "      <td>251.331459</td>\n",
       "      <td>-0.486026</td>\n",
       "    </tr>\n",
       "    <tr>\n",
       "      <th>std</th>\n",
       "      <td>26.688464</td>\n",
       "      <td>27.511190</td>\n",
       "      <td>4.683450</td>\n",
       "    </tr>\n",
       "    <tr>\n",
       "      <th>min</th>\n",
       "      <td>180.953839</td>\n",
       "      <td>180.550751</td>\n",
       "      <td>-13.424189</td>\n",
       "    </tr>\n",
       "    <tr>\n",
       "      <th>25%</th>\n",
       "      <td>231.585474</td>\n",
       "      <td>234.110498</td>\n",
       "      <td>-2.750050</td>\n",
       "    </tr>\n",
       "    <tr>\n",
       "      <th>50%</th>\n",
       "      <td>251.922217</td>\n",
       "      <td>252.540438</td>\n",
       "      <td>-0.066921</td>\n",
       "    </tr>\n",
       "    <tr>\n",
       "      <th>75%</th>\n",
       "      <td>269.122310</td>\n",
       "      <td>269.351788</td>\n",
       "      <td>2.465101</td>\n",
       "    </tr>\n",
       "    <tr>\n",
       "      <th>max</th>\n",
       "      <td>315.567262</td>\n",
       "      <td>325.270761</td>\n",
       "      <td>11.391629</td>\n",
       "    </tr>\n",
       "  </tbody>\n",
       "</table>\n",
       "</div>"
      ],
      "text/plain": [
       "       weight_before  weight_after  weight_change\n",
       "count     100.000000    100.000000     100.000000\n",
       "mean      251.817486    251.331459      -0.486026\n",
       "std        26.688464     27.511190       4.683450\n",
       "min       180.953839    180.550751     -13.424189\n",
       "25%       231.585474    234.110498      -2.750050\n",
       "50%       251.922217    252.540438      -0.066921\n",
       "75%       269.122310    269.351788       2.465101\n",
       "max       315.567262    325.270761      11.391629"
      ]
     },
     "execution_count": 23,
     "metadata": {},
     "output_type": "execute_result"
    }
   ],
   "source": [
    "np.random.seed(1)\n",
    "\n",
    "before=stats.norm.rvs(scale=30,loc=250,size=100)\n",
    "\n",
    "after=before + stats.norm.rvs(scale=5,loc=-1.25,size=100)\n",
    "\n",
    "weight_df=pd.DataFrame({\n",
    "    \"weight_before\":before,\n",
    "    \"weight_after\":after,\n",
    "    \"weight_change\":after-before\n",
    "})\n",
    "\n",
    "weight_df.describe() #Check a summary of the data \n",
    "\n",
    "\n"
   ]
  },
  {
   "cell_type": "code",
   "execution_count": 24,
   "metadata": {},
   "outputs": [
    {
     "data": {
      "text/plain": [
       "TtestResult(statistic=1.0377522844297216, pvalue=0.3019134274780533, df=99)"
      ]
     },
     "execution_count": 24,
     "metadata": {},
     "output_type": "execute_result"
    }
   ],
   "source": [
    "stats.ttest_rel(a=before,b=after)"
   ]
  },
  {
   "attachments": {},
   "cell_type": "markdown",
   "metadata": {},
   "source": [
    "## Errors in Statistical test : Type I Error & Type II Error"
   ]
  },
  {
   "attachments": {},
   "cell_type": "markdown",
   "metadata": {},
   "source": [
    "### In Type I error, we reject the null hypothesis when it is actually true . This error is also called false-positive or a false-hit \n",
    "### Solution : Raising the confidence level(lower alpha value) can help to mitigate the chances of running into this error"
   ]
  },
  {
   "attachments": {},
   "cell_type": "markdown",
   "metadata": {},
   "source": [
    "### In Type II error, we fail to reject the null hypothesis when it is actually false. \n",
    "### Type II error is also known as \"false negative\" or \"miss\". The higher your confidence level, the more likely you are to make a type II error"
   ]
  },
  {
   "attachments": {},
   "cell_type": "markdown",
   "metadata": {},
   "source": [
    "### Lets finally investigate the errors with a plot "
   ]
  },
  {
   "cell_type": "code",
   "execution_count": 25,
   "metadata": {},
   "outputs": [
    {
     "data": {
      "text/plain": [
       "Text(0, 0.02, 'Type 2 Error')"
      ]
     },
     "execution_count": 25,
     "metadata": {},
     "output_type": "execute_result"
    },
    {
     "data": {
      "image/png": "[encoded data removed]",
      "text/plain": [
       "<Figure size 1200x1000 with 1 Axes>"
      ]
     },
     "metadata": {},
     "output_type": "display_data"
    }
   ],
   "source": [
    "plt.figure(figsize=(12,10))\n",
    "plt.fill_between(x=np.arange(-4,-2,0.01),y1=stats.norm.pdf(np.arange(-4,-2,0.01)),\n",
    "                 facecolor='red',alpha=0.35\n",
    "                 )\n",
    "plt.fill_between(x=np.arange(-2,2,0.01),\n",
    "                 y1=stats.norm.pdf(np.arange(-2,2,0.01)),\n",
    "                 facecolor='grey',alpha=0.35)\n",
    "\n",
    "plt.fill_between(x=np.arange(2,4,0.01),\n",
    "                 y1=stats.norm.pdf(np.arange(2,4,0.01)),\n",
    "                 facecolor='red',\n",
    "                 alpha=0.5)\n",
    "plt.fill_between(x=np.arange(-4,-2,0.01),\n",
    "                 y1=stats.norm.pdf(np.arange(-4,-2,0.01),loc=3,scale=2),\n",
    "                 facecolor='grey',\n",
    "                 alpha=0.35)\n",
    "plt.fill_between(x=np.arange(-2,2,0.01),\n",
    "                 y1=stats.norm.pdf(np.arange(-2,2,0.01),loc=3,scale=2),\n",
    "                 facecolor='blue',\n",
    "                 alpha=0.35)\n",
    "plt.fill_between(x=np.arange(2,10,0.01),\n",
    "                 y1=stats.norm.pdf(np.arange(2,10,0.01),loc=3,scale=2),\n",
    "                 facecolor='grey',\n",
    "                 alpha=0.35)\n",
    "\n",
    "plt.text(x=-0.8,y=0.15,s=\"Null Hypothesis\")\n",
    "plt.text(x=2.5,y=0.13,s=\"Alternative\")\n",
    "plt.text(x=2.1,y=0.01,s=\"Type I Error\")\n",
    "plt.text(x=-3.2,y=0.01,s=\"Type I Error\")\n",
    "plt.text(x=0,y=0.02,s=\"Type 2 Error\")\n",
    "\n",
    "                 \n",
    "\n",
    "                 "
   ]
  },
  {
   "attachments": {},
   "cell_type": "markdown",
   "metadata": {},
   "source": [
    "### To conclude, t-test is a powerful tool for investigating the differences between sample and population means. T-tests operate on numeric variables."
   ]
  }
 ],
 "metadata": {
  "kernelspec": {
   "display_name": "DataScience-kDDmsSNt",
   "language": "python",
   "name": "python3"
  },
  "language_info": {
   "codemirror_mode": {
    "name": "ipython",
    "version": 3
   },
   "file_extension": ".py",
   "mimetype": "text/x-python",
   "name": "python",
   "nbconvert_exporter": "python",
   "pygments_lexer": "ipython3",
   "version": "3.10.7 (tags/v3.10.7:6cc6b13, Sep  5 2022, 14:08:36) [MSC v.1933 64 bit (AMD64)]"
  },
  "orig_nbformat": 4,
  "vscode": {
   "interpreter": {
    "hash": "af7f5bfbb119636bdd31282af8dd31d6f448188e8bfe79b5f049349a1ba8d466"
   }
  }
 },
 "nbformat": 4,
 "nbformat_minor": 2
}
