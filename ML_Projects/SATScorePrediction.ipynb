{
 "cells": [
  {
   "cell_type": "markdown",
   "id": "d098769c",
   "metadata": {},
   "source": [
    "### Import Dependencies"
   ]
  },
  {
   "cell_type": "code",
   "execution_count": 1,
   "id": "55dcc68f",
   "metadata": {},
   "outputs": [],
   "source": [
    "import numpy as np \n",
    "import pandas as pd\n",
    "from sklearn.model_selection import train_test_split \n",
    "from sklearn.linear_model import LogisticRegression \n",
    "from sklearn.metrics import accuracy_score "
   ]
  },
  {
   "cell_type": "markdown",
   "id": "4e8d2ae1",
   "metadata": {},
   "source": [
    "### Data Collection and Data Processing "
   ]
  },
  {
   "cell_type": "code",
   "execution_count": null,
   "id": "dea582a8",
   "metadata": {},
   "outputs": [],
   "source": [
    "#Loading data into a pandas dataframe \n",
    "data=pd.read_csv(\"../Data/1.04. Real-life example.csv\")"
   ]
  }
 ],
 "metadata": {
  "kernelspec": {
   "display_name": "DataScience-8wVQIKjq",
   "language": "python",
   "name": "python3"
  },
  "language_info": {
   "codemirror_mode": {
    "name": "ipython",
    "version": 3
   },
   "file_extension": ".py",
   "mimetype": "text/x-python",
   "name": "python",
   "nbconvert_exporter": "python",
   "pygments_lexer": "ipython3",
   "version": "3.12.4"
  }
 },
 "nbformat": 4,
 "nbformat_minor": 5
}
