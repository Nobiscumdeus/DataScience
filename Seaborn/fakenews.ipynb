{
 "cells": [
  {
   "attachments": {},
   "cell_type": "markdown",
   "metadata": {},
   "source": [
    "# FAKE NEWS Detection using  Machine Learning with Python "
   ]
  },
  {
   "attachments": {},
   "cell_type": "markdown",
   "metadata": {},
   "source": [
    "## Stage 1: Explaning the Workflow \n",
    "### .................................. ####\n",
    "### 1. Collection of News Data\n",
    "### 2. Data Preprocessing \n",
    "### 3. Train Test Split \n",
    "### 4. Logistic Regression because its a Classification Problem\n",
    "### 5. Trained Logistic Regrression Model can now predict if we have a fake news or not  \n",
    "\n",
    "### Fake News : 1\n",
    "### Not Fake News (Real News ) : 0 "
   ]
  },
  {
   "attachments": {},
   "cell_type": "markdown",
   "metadata": {},
   "source": [
    "## Stage 2: Importing the necessary dependencies and packages "
   ]
  },
  {
   "cell_type": "code",
   "execution_count": null,
   "metadata": {},
   "outputs": [],
   "source": [
    "import pandas as pd \n",
    "import numpy as np \n",
    "import matplotlib.pyplot as plt \n",
    "import seaborn as sb \n",
    "import re \n"
   ]
  },
  {
   "cell_type": "code",
   "execution_count": null,
   "metadata": {},
   "outputs": [
    {
     "ename": "",
     "evalue": "",
     "output_type": "error",
     "traceback": [
      "\u001b[1;31mFailed to start the Kernel. \n",
      "\u001b[1;31mUnable to start Kernel 'DataScience-kDDmsSNt (Python 3.10.7)' due to connection timeout. \n",
      "\u001b[1;31mView Jupyter <a href='command:jupyter.viewOutput'>log</a> for further details."
     ]
    }
   ],
   "source": [
    "def replace_word():\n",
    "    \n",
    "    str=\"Hi guys, I am Chasfat Projects\"\n",
    "    word_to_replace=input(\"Enter the word to replace \")\n",
    "    word_replacement=input(\"Enter the word replacement\")\n",
    "    print(str.replace(word_to_replace,word_replacement))\n",
    "    \n",
    "replace_word()"
   ]
  },
  {
   "attachments": {},
   "cell_type": "markdown",
   "metadata": {},
   "source": [
    "#### Simple Calculator "
   ]
  },
  {
   "cell_type": "code",
   "execution_count": 4,
   "metadata": {},
   "outputs": [
    {
     "name": "stdout",
     "output_type": "stream",
     "text": [
      "A. Addition\n",
      "B. Subtraction\n",
      "C. Multiplication \n",
      "D. Division \n",
      "You don't seem to be really serious, who are you playing with ? \n"
     ]
    }
   ],
   "source": [
    "def add(a,b):\n",
    "    answer=a+b\n",
    "    print( str(a) + \" plus \" +  str(b) + \" equals \" + str(answer))\n",
    "\n",
    "def subtract(a,b):\n",
    "    answer=a-b\n",
    "    print(str(a) + \" minus \" + str(b) + \" equals \" + str(answer))\n",
    "    \n",
    "def multiply (a,b):\n",
    "    answer=a*b\n",
    "    print(str(a) + \" multiplied by\" + str(b) + \" equals \" + str(answer))\n",
    "def division (a,b):\n",
    "    answer=a/b\n",
    "    print(str(a) + \" divided by \" + str(b) + \" equals \" + str(answer))\n",
    "    \n",
    "print(\"A. Addition\")\n",
    "print(\"B. Subtraction\")\n",
    "print(\"C. Multiplication \")\n",
    "print(\"D. Division \")\n",
    "\n",
    "choice= input(\"Please pick your choice among the options available \")\n",
    "if choice ==\"a\" or choice =='A':\n",
    "    print(\"Additional Operation underway.... \")\n",
    "    a=int(input(\"Enter the first number \"))\n",
    "    b=int(input(\"Enter the second number \"))\n",
    "    add(a,b)\n",
    "elif choice=='b' or choice == \"B\":\n",
    "    print(\"Subtration Operation underway...\")\n",
    "    a=int(input(\"Enter the first number\"))\n",
    "    b=int(input(\"Enter the second number \"))\n",
    "    subtract(a,b)\n",
    "elif choice==\"c\" or choice==\"C\":\n",
    "    print(\"Multiplication operation underway\")\n",
    "    a=int(input(\"Enter the first number \"))\n",
    "    b=int(input(\"Enter the second number \"))\n",
    "    multiply(a,b)\n",
    "elif choice=='d' or choice=='D':\n",
    "     print(\"Division operation underway \")\n",
    "     a=int(input(\"Enter the first number \"))\n",
    "     b=int(input(\"Enter the second number \"))\n",
    "     division(a,b)\n",
    "        \n",
    "else:\n",
    "    print(\"You don't seem to be really serious, who are you playing with ? \")\n",
    "   "
   ]
  },
  {
   "attachments": {},
   "cell_type": "markdown",
   "metadata": {},
   "source": [
    "#### Email Slicer Application "
   ]
  },
  {
   "cell_type": "code",
   "execution_count": 5,
   "metadata": {},
   "outputs": [
    {
     "name": "stdout",
     "output_type": "stream",
     "text": [
      "Welcome to the email slicer application \n",
      "\n",
      "Your username is :  kolawoleadeolu\n",
      "Your Domain name is :  kolawoleadeolu@gmail\n",
      "Your extension is :  com\n",
      "Welcome to the email slicer application \n",
      "\n",
      "Your username is :  oluwaladekolade\n",
      "Your Domain name is :  oluwaladekolade@gmail\n",
      "Your extension is :  com\n",
      "Welcome to the email slicer application \n",
      "\n"
     ]
    },
    {
     "ename": "ValueError",
     "evalue": "not enough values to unpack (expected 2, got 1)",
     "output_type": "error",
     "traceback": [
      "\u001b[1;31m---------------------------------------------------------------------------\u001b[0m",
      "\u001b[1;31mValueError\u001b[0m                                Traceback (most recent call last)",
      "Cell \u001b[1;32mIn[5], line 13\u001b[0m\n\u001b[0;32m     10\u001b[0m     \u001b[39mprint\u001b[39m(\u001b[39m\"\u001b[39m\u001b[39mYour extension is : \u001b[39m\u001b[39m\"\u001b[39m,extension )\n\u001b[0;32m     12\u001b[0m \u001b[39mwhile\u001b[39;00m \u001b[39mTrue\u001b[39;00m:\n\u001b[1;32m---> 13\u001b[0m     slicer()\n",
      "Cell \u001b[1;32mIn[5], line 5\u001b[0m, in \u001b[0;36mslicer\u001b[1;34m()\u001b[0m\n\u001b[0;32m      3\u001b[0m \u001b[39mprint\u001b[39m(\u001b[39m\"\u001b[39m\u001b[39m\"\u001b[39m)\n\u001b[0;32m      4\u001b[0m email_input\u001b[39m=\u001b[39m\u001b[39minput\u001b[39m(\u001b[39m'\u001b[39m\u001b[39mEnter your email address : \u001b[39m\u001b[39m'\u001b[39m)\n\u001b[1;32m----> 5\u001b[0m (username,domain)\u001b[39m=\u001b[39memail_input\u001b[39m.\u001b[39msplit(\u001b[39m\"\u001b[39m\u001b[39m@\u001b[39m\u001b[39m\"\u001b[39m)\n\u001b[0;32m      6\u001b[0m (domain,extension)\u001b[39m=\u001b[39memail_input\u001b[39m.\u001b[39msplit(\u001b[39m\"\u001b[39m\u001b[39m.\u001b[39m\u001b[39m\"\u001b[39m)\n\u001b[0;32m      8\u001b[0m \u001b[39mprint\u001b[39m(\u001b[39m\"\u001b[39m\u001b[39mYour username is : \u001b[39m\u001b[39m\"\u001b[39m,username)\n",
      "\u001b[1;31mValueError\u001b[0m: not enough values to unpack (expected 2, got 1)"
     ]
    }
   ],
   "source": [
    "def slicer():\n",
    "    print(\"Welcome to the email slicer application \")\n",
    "    print(\"\")\n",
    "    email_input=input('Enter your email address : ')\n",
    "    (username,domain)=email_input.split(\"@\")\n",
    "    (domain,extension)=email_input.split(\".\")\n",
    "    \n",
    "    print(\"Your username is : \",username)\n",
    "    print(\"Your Domain name is : \",domain)\n",
    "    print(\"Your extension is : \",extension )\n"
   ]
  },
  {
   "attachments": {},
   "cell_type": "markdown",
   "metadata": {},
   "source": [
    "#### A Simple Quiz Application \n"
   ]
  },
  {
   "cell_type": "code",
   "execution_count": 8,
   "metadata": {},
   "outputs": [
    {
     "name": "stdout",
     "output_type": "stream",
     "text": [
      "What is the capital of France ? \n",
      "Ooops!!! Wrong anser\n",
      "The correct answer is : Paris \n",
      "Your score is : 0\n",
      "Your Final score is : 0 out of 3 questions correctly \n",
      "What is the name of the first College of Medicine in Nigeria ?\n",
      "Ooops!!! Wrong anser\n",
      "The correct answer is : Berlin\n",
      "Your score is : 0\n",
      "Your Final score is : 0 out of 3 questions correctly \n",
      "What is the capital of Italy ? \n",
      "Congrats! Your answer is correct \n",
      "Your score is : 1\n",
      "Your Final score is : 1 out of 3 questions correctly \n"
     ]
    }
   ],
   "source": [
    "quiz={\n",
    "    \"question1\":{\n",
    "        \"question\":\"What is the capital of France ? \",\n",
    "        \"answer\":\"Paris \"\n",
    "    },\n",
    "    \"question2\":{\n",
    "        \"question\":\"What is the name of the first College of Medicine in Nigeria ?\",\n",
    "        \"answer\":\"Berlin\"\n",
    "    },\n",
    "    \"question3\":{\n",
    "        \"question\":\"What is the capital of Italy ? \",\n",
    "        \"answer\":\"Rome\"\n",
    "    },\n",
    "   \n",
    "    \n",
    "}\n",
    "\n",
    "score=0\n",
    "for key,value in quiz.items():\n",
    "    print(value['question'])\n",
    "    answer=input(\"Answer ? \")\n",
    "    \n",
    "    if answer.lower() == value['answer'].lower():\n",
    "        print(\"Congrats! Your answer is correct \")\n",
    "        score=score+1\n",
    "        print(\"Your score is : \" + str(score))\n",
    "\n",
    "    else:\n",
    "        print(\"Ooops!!! Wrong anser\")\n",
    "        print(\"The correct answer is : \"+ value['answer'])\n",
    "        print(\"Your score is : \" + str(score))\n",
    "    print(\"Your Final score is : \" + str(score) + \" out of \" + \"3 questions correctly \")"
   ]
  },
  {
   "attachments": {},
   "cell_type": "markdown",
   "metadata": {},
   "source": [
    "#### GRCode Simple Application "
   ]
  },
  {
   "cell_type": "code",
   "execution_count": 9,
   "metadata": {},
   "outputs": [
    {
     "ename": "SyntaxError",
     "evalue": "unterminated string literal (detected at line 13) (3468067882.py, line 13)",
     "output_type": "error",
     "traceback": [
      "\u001b[1;36m  Cell \u001b[1;32mIn[9], line 13\u001b[1;36m\u001b[0m\n\u001b[1;33m    img=qr.make_image(fill_color='black',back_color=\"white')\u001b[0m\n\u001b[1;37m                                                    ^\u001b[0m\n\u001b[1;31mSyntaxError\u001b[0m\u001b[1;31m:\u001b[0m unterminated string literal (detected at line 13)\n"
     ]
    }
   ],
   "source": [
    "import qrcode \n",
    "\n",
    "def generate_grcode(text):\n",
    "    \n",
    "    qr=qrcode.QRCode(\n",
    "        version=1,\n",
    "        error_correction=qrcode.constants.ERROR_CORRECT-L,\n",
    "        box_size=10,\n",
    "        border=4,\n",
    "    )\n",
    "    qr.add_data(text)\n",
    "    qr.make(fit=True)\n",
    "    img=qr.make_image(fill_color='black',back_color=\"white')\n",
    "    img.save(qrimg.png)\n",
    "url=input(\"Enter your Url \")\n",
    "generate_qrcode(url)"
   ]
  }
 ],
 "metadata": {
  "kernelspec": {
   "display_name": "DataScience-kDDmsSNt",
   "language": "python",
   "name": "python3"
  },
  "language_info": {
   "codemirror_mode": {
    "name": "ipython",
    "version": 3
   },
   "file_extension": ".py",
   "mimetype": "text/x-python",
   "name": "python",
   "nbconvert_exporter": "python",
   "pygments_lexer": "ipython3",
   "version": "3.10.7 (tags/v3.10.7:6cc6b13, Sep  5 2022, 14:08:36) [MSC v.1933 64 bit (AMD64)]"
  },
  "orig_nbformat": 4,
  "vscode": {
   "interpreter": {
    "hash": "af7f5bfbb119636bdd31282af8dd31d6f448188e8bfe79b5f049349a1ba8d466"
   }
  }
 },
 "nbformat": 4,
 "nbformat_minor": 2
}
